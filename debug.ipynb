{
 "cells": [
  {
   "cell_type": "code",
   "execution_count": 1,
   "metadata": {},
   "outputs": [],
   "source": [
    "import torch\n",
    "import torch.nn as nn\n",
    "import torch.nn.functional as F\n",
    "import numpy as np\n",
    "\n",
    "from src.utils import mlp, MLPGaussianActor, MLPCritic, MLPActorCritic"
   ]
  },
  {
   "cell_type": "code",
   "execution_count": 2,
   "metadata": {},
   "outputs": [],
   "source": [
    "obs_dim = 10\n",
    "action_space = torch.tensor([[1, 0, 1], [0, 1, 3]])\n",
    "hidden_sizes = (64, 64)\n",
    "activation = nn.Tanh\n",
    "\n",
    "random_state = torch.tensor([[0, 1, 2, 3, 4, 5, 6, 7, 8, 9],\n",
    "                             [0, 1, 2, 3, 4, 5, 6, 7, 8, 9]], dtype=torch.float32)"
   ]
  },
  {
   "cell_type": "markdown",
   "metadata": {},
   "source": [
    "# Core"
   ]
  },
  {
   "cell_type": "markdown",
   "metadata": {},
   "source": [
    "## Actor"
   ]
  },
  {
   "cell_type": "code",
   "execution_count": 36,
   "metadata": {},
   "outputs": [],
   "source": [
    "actor = MLPGaussianActor(obs_dim, action_space.shape[0], hidden_sizes, activation)"
   ]
  },
  {
   "cell_type": "code",
   "execution_count": 37,
   "metadata": {},
   "outputs": [
    {
     "data": {
      "text/plain": [
       "Parameter containing:\n",
       "tensor([-0.5000, -0.5000], requires_grad=True)"
      ]
     },
     "execution_count": 37,
     "metadata": {},
     "output_type": "execute_result"
    }
   ],
   "source": [
    "actor.log_std"
   ]
  },
  {
   "cell_type": "code",
   "execution_count": 71,
   "metadata": {},
   "outputs": [
    {
     "data": {
      "text/plain": [
       "tensor([[-0.2400, -0.4764],\n",
       "        [-0.7703,  0.8818]])"
      ]
     },
     "execution_count": 71,
     "metadata": {},
     "output_type": "execute_result"
    }
   ],
   "source": [
    "action = actor._distribution(random_state).sample()\n",
    "action"
   ]
  },
  {
   "cell_type": "code",
   "execution_count": 72,
   "metadata": {},
   "outputs": [
    {
     "name": "stdout",
     "output_type": "stream",
     "text": [
      "Normal(loc: torch.Size([2, 2]), scale: torch.Size([2, 2]))\n",
      "tensor([-1.3901, -2.4319], grad_fn=<SumBackward1>)\n"
     ]
    }
   ],
   "source": [
    "pi, logp_a = actor(random_state, action)\n",
    "print(pi)\n",
    "print(logp_a)"
   ]
  },
  {
   "cell_type": "markdown",
   "metadata": {},
   "source": [
    "## Critic"
   ]
  },
  {
   "cell_type": "code",
   "execution_count": null,
   "metadata": {},
   "outputs": [],
   "source": []
  },
  {
   "cell_type": "markdown",
   "metadata": {},
   "source": [
    "## Discount"
   ]
  },
  {
   "cell_type": "code",
   "execution_count": 9,
   "metadata": {},
   "outputs": [],
   "source": [
    "x = np.array([1, 2, 3, 4, 5])"
   ]
  },
  {
   "cell_type": "code",
   "execution_count": 13,
   "metadata": {},
   "outputs": [
    {
     "name": "stdout",
     "output_type": "stream",
     "text": [
      "spinning up:  [11.4265 11.585  10.65    8.5     5.    ]\n",
      "mine:  [11.4265 11.585  10.65    8.5     5.    ]\n",
      "[ True  True  True  True  True]\n"
     ]
    }
   ],
   "source": [
    "from src.utils import discount_cumsum\n",
    "import scipy.signal\n",
    "\n",
    "a = scipy.signal.lfilter([1], [1, float(-0.9)], x[::-1], axis=0)[::-1]\n",
    "b = discount_cumsum(x, 0.9)\n",
    "print('spinning up: ', a)\n",
    "print('mine: ', b)\n",
    "print(a==b)"
   ]
  },
  {
   "cell_type": "markdown",
   "metadata": {},
   "source": [
    "## Combined shape"
   ]
  },
  {
   "cell_type": "code",
   "execution_count": 73,
   "metadata": {},
   "outputs": [],
   "source": [
    "def combined_shape(length, shape=None):\n",
    "    if shape is None:\n",
    "        return (length,)\n",
    "    return (length, shape) if np.isscalar(shape) else (length, *shape)"
   ]
  },
  {
   "cell_type": "code",
   "execution_count": 80,
   "metadata": {},
   "outputs": [
    {
     "data": {
      "text/plain": [
       "(20, 10)"
      ]
     },
     "execution_count": 80,
     "metadata": {},
     "output_type": "execute_result"
    }
   ],
   "source": [
    "obs_dim = 10\n",
    "buffer_size = 20\n",
    "\n",
    "#np.zeros(combined_shape(buffer_size), dtype=np.float32).shape\n",
    "np.zeros(combined_shape(buffer_size, obs_dim), dtype=np.float32).shape"
   ]
  },
  {
   "cell_type": "markdown",
   "metadata": {},
   "source": [
    "# dict"
   ]
  },
  {
   "cell_type": "code",
   "execution_count": 1,
   "metadata": {},
   "outputs": [
    {
     "data": {
      "text/plain": [
       "{'obs': [1, 2, 3],\n",
       " 'act': [1, 2, 3],\n",
       " 'ret': [1, 2, 3],\n",
       " 'adv': [1, 2, 3],\n",
       " 'logp': [1, 2, 3]}"
      ]
     },
     "execution_count": 1,
     "metadata": {},
     "output_type": "execute_result"
    }
   ],
   "source": [
    "data = dict(obs=[1, 2, 3], act=[1, 2, 3], ret=[1, 2, 3],\n",
    "                    adv=[1, 2, 3], logp=[1, 2, 3])\n",
    "data"
   ]
  },
  {
   "cell_type": "code",
   "execution_count": null,
   "metadata": {},
   "outputs": [],
   "source": []
  }
 ],
 "metadata": {
  "kernelspec": {
   "display_name": "MujocoProject",
   "language": "python",
   "name": "python3"
  },
  "language_info": {
   "codemirror_mode": {
    "name": "ipython",
    "version": 3
   },
   "file_extension": ".py",
   "mimetype": "text/x-python",
   "name": "python",
   "nbconvert_exporter": "python",
   "pygments_lexer": "ipython3",
   "version": "3.10.0"
  }
 },
 "nbformat": 4,
 "nbformat_minor": 2
}
